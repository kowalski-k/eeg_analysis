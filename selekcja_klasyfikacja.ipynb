{
 "cells": [
  {
   "cell_type": "code",
   "execution_count": 1,
   "metadata": {},
   "outputs": [],
   "source": [
    "import numpy as np\n",
    "from sklearn import preprocessing\n",
    "from sklearn.model_selection import train_test_split\n",
    "from sklearn.neighbors import KNeighborsClassifier\n",
    "from sklearn import metrics\n",
    "import random\n",
    "from sklearn.metrics import confusion_matrix\n",
    "from sklearn.model_selection import StratifiedKFold"
   ]
  },
  {
   "cell_type": "markdown",
   "metadata": {},
   "source": [
    "### Pobranie wektorów ze skryptów eeg_pacjenci i eeg_kontrola"
   ]
  },
  {
   "cell_type": "markdown",
   "metadata": {},
   "source": [
    "Budowa tablic z wektorami:\n",
    "\n",
    "Liczba wierszy = Liczba fragmentow\n",
    "Liczba kolumn = Liczba elektrod * Liczba cech = 3 * 6 = 18\n",
    "\n",
    "Przykładowy jeden wiersz (zachowana kolejnosc elektrod i cech):\n",
    "- C3 aktywnosc\n",
    "- C3 ruchliwosc\n",
    "- C3 zlozonosc\n",
    "- C3 srednia\n",
    "- C3 wspolczynnik zmiennosci\n",
    "- C3 liczba zerowych elementow\n",
    "- Cz aktywnosc\n",
    "- Cz ruchliwosc\n",
    "- Cz zlozonosc\n",
    "- Cz srednia\n",
    "- Cz wspolczynnik zmiennosci\n",
    "- Cz liczba zerowych elementow\n",
    "- C4 aktywnosc\n",
    "- C4 ruchliwosc\n",
    "- C4 zlozonosc\n",
    "- C4 srednia\n",
    "- C4 wspolczynnik zmiennosci\n",
    "- C4 liczba zerowych elementow"
   ]
  },
  {
   "cell_type": "code",
   "execution_count": 2,
   "metadata": {},
   "outputs": [],
   "source": [
    "MCS_left_vectors = np.load('MCS-left-vectors.npy')\n",
    "MCS_rest_vectors = np.load('MCS-rest-vectors.npy')\n",
    "VS_left_vectors = np.load('VS-left-vectors.npy')\n",
    "VS_rest_vectors = np.load('VS-rest-vectors.npy')\n",
    "\n",
    "kontrola_left_vectors = np.load('kontrola-left-vectors.npy')\n",
    "kontrola_rest_vectors = np.load('kontrola-rest-vectors.npy')"
   ]
  },
  {
   "cell_type": "code",
   "execution_count": 3,
   "metadata": {},
   "outputs": [
    {
     "name": "stdout",
     "output_type": "stream",
     "text": [
      "14 16 18\n",
      "48\n",
      "True\n"
     ]
    }
   ],
   "source": [
    "MCS_left_max_length = np.shape(MCS_left_vectors)[0]\n",
    "VS_left_max_length = np.shape(VS_left_vectors)[0]\n",
    "kontrola_left_max_length = np.shape(kontrola_left_vectors)[0]\n",
    "print(MCS_left_max_length, VS_left_max_length, kontrola_left_max_length)\n",
    "print(len(kontrola_left_vectors[0]))\n",
    "\n",
    "print(np.all(MCS_left_vectors[0][50]) == 0)"
   ]
  },
  {
   "cell_type": "markdown",
   "metadata": {},
   "source": [
    "## Polaczenie tych samych cech dla danej klasy w jeden wektor"
   ]
  },
  {
   "cell_type": "code",
   "execution_count": 4,
   "metadata": {},
   "outputs": [
    {
     "name": "stdout",
     "output_type": "stream",
     "text": [
      "False\n",
      "1476\n"
     ]
    }
   ],
   "source": [
    "kontrola_activity = []\n",
    "kontrola_mobility = []\n",
    "kontrola_complexity = []\n",
    "kontrola_mean = []\n",
    "kontrola_cov = []\n",
    "kontrola_zero_cross = []\n",
    "\n",
    "VS_activity = []\n",
    "VS_mobility = []\n",
    "VS_complexity = []\n",
    "VS_mean = []\n",
    "VS_cov = []\n",
    "VS_zero_cross = []\n",
    "\n",
    "MCS_activity = []\n",
    "MCS_mobility = []\n",
    "MCS_complexity = []\n",
    "MCS_mean = []\n",
    "MCS_cov = []\n",
    "MCS_zero_cross = []\n",
    "\n",
    "\n",
    "for patient in range(len(kontrola_left_vectors)):\n",
    "    for period in range(len(kontrola_left_vectors[0])):\n",
    "        for feature in range(18):\n",
    "            if feature in [0, 6, 12]:\n",
    "                kontrola_activity.append(kontrola_left_vectors[patient][period][feature])\n",
    "            if feature in [1, 7, 13]:\n",
    "                kontrola_mobility.append(kontrola_left_vectors[patient][period][feature])\n",
    "            if feature in [2, 8, 14]:\n",
    "                kontrola_complexity.append(kontrola_left_vectors[patient][period][feature])\n",
    "            if feature in [3, 9, 15]:\n",
    "                kontrola_mean.append(kontrola_left_vectors[patient][period][feature])\n",
    "            if feature in [4, 10, 16]:\n",
    "                kontrola_cov.append(kontrola_left_vectors[patient][period][feature])\n",
    "            if feature in [5, 11, 17]:  \n",
    "                kontrola_zero_cross.append(kontrola_left_vectors[patient][period][feature])\n",
    "                \n",
    "                \n",
    "for patient in range(len(VS_left_vectors)):\n",
    "    for period in range(len(VS_left_vectors[0])):\n",
    "        for feature in range(18):\n",
    "            if np.all(VS_left_vectors[patient][period]) == 0:\n",
    "                break        \n",
    "            if feature in [0, 6, 12]:\n",
    "                VS_activity.append(VS_left_vectors[patient][period][feature])\n",
    "            if feature in [1, 7, 13]:\n",
    "                VS_mobility.append(VS_left_vectors[patient][period][feature])\n",
    "            if feature in [2, 8, 14]:\n",
    "                VS_complexity.append(VS_left_vectors[patient][period][feature])\n",
    "            if feature in [3, 9, 15]:\n",
    "                VS_mean.append(VS_left_vectors[patient][period][feature])\n",
    "            if feature in [4, 10, 16]:\n",
    "                VS_cov.append(VS_left_vectors[patient][period][feature])\n",
    "            if feature in [5, 11, 17]:  \n",
    "                VS_zero_cross.append(VS_left_vectors[patient][period][feature])\n",
    "\n",
    "\n",
    "for patient in range(len(MCS_left_vectors)):\n",
    "    for period in range(len(MCS_left_vectors[0])):\n",
    "        for feature in range(18):\n",
    "            if np.all(MCS_left_vectors[patient][period]) == 0:\n",
    "                break        \n",
    "            if feature in [0, 6, 12]:\n",
    "                MCS_activity.append(MCS_left_vectors[patient][period][feature])              \n",
    "            if feature in [1, 7, 13]:\n",
    "                MCS_mobility.append(MCS_left_vectors[patient][period][feature])\n",
    "            if feature in [2, 8, 14]:\n",
    "                MCS_complexity.append(MCS_left_vectors[patient][period][feature])\n",
    "            if feature in [3, 9, 15]:\n",
    "                MCS_mean.append(MCS_left_vectors[patient][period][feature])\n",
    "            if feature in [4, 10, 16]:\n",
    "                MCS_cov.append(MCS_left_vectors[patient][period][feature])\n",
    "            if feature in [5, 11, 17]:  \n",
    "                MCS_zero_cross.append(MCS_left_vectors[patient][period][feature])\n",
    "                \n",
    "print(np.any(MCS_activity) == 0)\n",
    "print(len(MCS_activity))"
   ]
  },
  {
   "cell_type": "markdown",
   "metadata": {},
   "source": [
    "## Parametr t dla aktywnosci"
   ]
  },
  {
   "cell_type": "code",
   "execution_count": 5,
   "metadata": {},
   "outputs": [
    {
     "name": "stdout",
     "output_type": "stream",
     "text": [
      "19.064648067951886\n"
     ]
    }
   ],
   "source": [
    "t_activity_kontrola_VS = np.abs(np.mean(kontrola_activity) - np.mean(VS_activity)) / np.sqrt((np.var(kontrola_activity) / len(kontrola_activity)) + (np.var(VS_activity) / len(VS_activity)))\n",
    "t_activity_MCS_VS = np.abs(np.mean(MCS_activity) - np.mean(VS_activity)) / np.sqrt((np.var(MCS_activity) / len(MCS_activity)) + (np.var(VS_activity) / len(VS_activity)))\n",
    "t_activity_kontrola_MCS = np.abs(np.mean(kontrola_activity) - np.mean(MCS_activity)) / np.sqrt((np.var(kontrola_activity) / len(kontrola_activity)) + (np.var(MCS_activity) / len(MCS_activity)))\n",
    "\n",
    "t_activity = t_activity_kontrola_VS + t_activity_MCS_VS + t_activity_kontrola_MCS\n",
    "print(t_activity)"
   ]
  },
  {
   "cell_type": "markdown",
   "metadata": {},
   "source": [
    "## Parametr t dla ruchliwosci\n"
   ]
  },
  {
   "cell_type": "code",
   "execution_count": 6,
   "metadata": {},
   "outputs": [
    {
     "name": "stdout",
     "output_type": "stream",
     "text": [
      "33.34561682958718\n"
     ]
    }
   ],
   "source": [
    "t_mobility_kontrola_VS = np.abs(np.mean(kontrola_mobility) - np.mean(VS_mobility)) / np.sqrt((np.var(kontrola_mobility) / len(kontrola_mobility)) + (np.var(VS_mobility) / len(VS_mobility)))\n",
    "t_mobility_MCS_VS = np.abs(np.mean(MCS_mobility) - np.mean(VS_mobility)) / np.sqrt((np.var(MCS_mobility) / len(MCS_mobility)) + (np.var(VS_mobility) / len(VS_mobility)))\n",
    "t_mobility_kontrola_MCS = np.abs(np.mean(kontrola_mobility) - np.mean(MCS_mobility)) / np.sqrt((np.var(kontrola_mobility) / len(kontrola_mobility)) + (np.var(MCS_mobility) / len(MCS_mobility)))\n",
    "\n",
    "t_mobility = t_mobility_kontrola_VS + t_mobility_MCS_VS + t_mobility_kontrola_MCS\n",
    "print(t_mobility)"
   ]
  },
  {
   "cell_type": "markdown",
   "metadata": {},
   "source": [
    "## Parametr t dla zlozonosci"
   ]
  },
  {
   "cell_type": "code",
   "execution_count": 7,
   "metadata": {},
   "outputs": [
    {
     "name": "stdout",
     "output_type": "stream",
     "text": [
      "87.03712570904236\n"
     ]
    }
   ],
   "source": [
    "t_complexity_kontrola_VS = np.abs(np.mean(kontrola_complexity) - np.mean(VS_complexity)) / np.sqrt((np.var(kontrola_complexity) / len(kontrola_complexity)) + (np.var(VS_complexity) / len(VS_complexity)))\n",
    "t_complexity_MCS_VS = np.abs(np.mean(MCS_complexity) - np.mean(VS_complexity)) / np.sqrt((np.var(MCS_complexity) / len(MCS_complexity)) + (np.var(VS_complexity) / len(VS_complexity)))\n",
    "t_complexity_kontrola_MCS = np.abs(np.mean(kontrola_complexity) - np.mean(MCS_complexity)) / np.sqrt((np.var(kontrola_complexity) / len(kontrola_complexity)) + (np.var(MCS_complexity) / len(MCS_complexity)))\n",
    "\n",
    "t_complexity = t_complexity_kontrola_VS + t_complexity_MCS_VS + t_complexity_kontrola_MCS\n",
    "print(t_complexity)"
   ]
  },
  {
   "cell_type": "markdown",
   "metadata": {},
   "source": [
    "## Parametr t dla sredniej\n"
   ]
  },
  {
   "cell_type": "code",
   "execution_count": 8,
   "metadata": {},
   "outputs": [
    {
     "name": "stdout",
     "output_type": "stream",
     "text": [
      "4.3111445494194855\n"
     ]
    }
   ],
   "source": [
    "t_mean_kontrola_VS = np.abs(np.mean(kontrola_mean) - np.mean(VS_mean)) / np.sqrt((np.var(kontrola_mean) / len(kontrola_mean)) + (np.var(VS_mean) / len(VS_mean)))\n",
    "t_mean_MCS_VS = np.abs(np.mean(MCS_mean) - np.mean(VS_mean)) / np.sqrt((np.var(MCS_mean) / len(MCS_mean)) + (np.var(VS_mean) / len(VS_mean)))\n",
    "t_mean_kontrola_MCS = np.abs(np.mean(kontrola_mean) - np.mean(MCS_mean)) / np.sqrt((np.var(kontrola_mean) / len(kontrola_mean)) + (np.var(MCS_mean) / len(MCS_mean)))\n",
    "\n",
    "t_mean = t_mean_kontrola_VS + t_mean_MCS_VS + t_mean_kontrola_MCS\n",
    "print(t_mean)"
   ]
  },
  {
   "cell_type": "markdown",
   "metadata": {},
   "source": [
    "## Parametr t dla wspolczynnika zmiennosci\n"
   ]
  },
  {
   "cell_type": "code",
   "execution_count": 9,
   "metadata": {},
   "outputs": [
    {
     "name": "stdout",
     "output_type": "stream",
     "text": [
      "4.163880493723004\n"
     ]
    }
   ],
   "source": [
    "t_cov_kontrola_VS = np.abs(np.mean(kontrola_cov) - np.mean(VS_cov)) / np.sqrt((np.var(kontrola_cov) / len(kontrola_cov)) + (np.var(VS_cov) / len(VS_cov)))\n",
    "t_cov_MCS_VS = np.abs(np.mean(MCS_cov) - np.mean(VS_cov)) / np.sqrt((np.var(MCS_cov) / len(MCS_cov)) + (np.var(VS_cov) / len(VS_cov)))\n",
    "t_cov_kontrola_MCS = np.abs(np.mean(kontrola_cov) - np.mean(MCS_cov)) / np.sqrt((np.var(kontrola_cov) / len(kontrola_cov)) + (np.var(MCS_cov) / len(MCS_cov)))\n",
    "\n",
    "t_cov = t_cov_kontrola_VS + t_cov_MCS_VS + t_cov_kontrola_MCS\n",
    "print(t_cov)"
   ]
  },
  {
   "cell_type": "markdown",
   "metadata": {},
   "source": [
    "## Parametr t dla liczby zerowych elementow\n"
   ]
  },
  {
   "cell_type": "code",
   "execution_count": 10,
   "metadata": {},
   "outputs": [
    {
     "name": "stdout",
     "output_type": "stream",
     "text": [
      "37.603972372397344\n"
     ]
    }
   ],
   "source": [
    "t_zero_cross_kontrola_VS = np.abs(np.mean(kontrola_zero_cross) - np.mean(VS_zero_cross)) / np.sqrt((np.var(kontrola_zero_cross) / len(kontrola_zero_cross)) + (np.var(VS_zero_cross) / len(VS_zero_cross)))\n",
    "t_zero_cross_MCS_VS = np.abs(np.mean(MCS_zero_cross) - np.mean(VS_zero_cross)) / np.sqrt((np.var(MCS_zero_cross) / len(MCS_zero_cross)) + (np.var(VS_zero_cross) / len(VS_zero_cross)))\n",
    "t_zero_cross_kontrola_MCS = np.abs(np.mean(kontrola_zero_cross) - np.mean(MCS_zero_cross)) / np.sqrt((np.var(kontrola_zero_cross) / len(kontrola_zero_cross)) + (np.var(MCS_zero_cross) / len(MCS_zero_cross)))\n",
    "\n",
    "t_zero_cross = t_zero_cross_kontrola_VS + t_zero_cross_MCS_VS + t_zero_cross_kontrola_MCS\n",
    "print(t_zero_cross)"
   ]
  },
  {
   "cell_type": "markdown",
   "metadata": {},
   "source": [
    "# Selekcja cech"
   ]
  },
  {
   "cell_type": "code",
   "execution_count": 11,
   "metadata": {},
   "outputs": [
    {
     "name": "stdout",
     "output_type": "stream",
     "text": [
      "Zlozonosc: 87.037\n",
      "Liczba zerowych elementow: 37.604\n",
      "Ruchliwosc: 33.346\n",
      "Aktywnosc: 19.065\n",
      "Srednia: 4.311\n",
      "Wspolczynnik zmiennosci: 4.164\n"
     ]
    }
   ],
   "source": [
    "selected_features = {\"Aktywnosc\": t_activity, \n",
    "                    \"Ruchliwosc\": t_mobility, \n",
    "                    \"Zlozonosc\": t_complexity, \n",
    "                    \"Srednia\": t_mean, \n",
    "                    \"Wspolczynnik zmiennosci\": t_cov, \n",
    "                    \"Liczba zerowych elementow\": t_zero_cross}\n",
    "\n",
    "sorted_features = {key: value for key, value in reversed(sorted(selected_features.items(), key=lambda item: item[1]))}\n",
    "for key, value in sorted_features.items():\n",
    "    print(str(key) + \": %.3f\" % value)"
   ]
  },
  {
   "cell_type": "markdown",
   "metadata": {},
   "source": [
    "# KLASYFIKACJA"
   ]
  },
  {
   "cell_type": "markdown",
   "metadata": {},
   "source": [
    "### Przygotowanie wektorow\n"
   ]
  },
  {
   "cell_type": "code",
   "execution_count": 12,
   "metadata": {},
   "outputs": [
    {
     "name": "stdout",
     "output_type": "stream",
     "text": [
      "1728\n",
      "984\n",
      "1368\n"
     ]
    }
   ],
   "source": [
    "all_vectors_kontrola = []\n",
    "all_vectors_MCS = []\n",
    "all_vectors_VS = []\n",
    "\n",
    "for patient in range(len(kontrola_left_vectors)):\n",
    "    for period in range(len(kontrola_left_vectors[0])):\n",
    "        all_vectors_kontrola.append(kontrola_left_vectors[patient][period])\n",
    "        all_vectors_kontrola.append(kontrola_rest_vectors[patient][period])\n",
    "\n",
    "for patient in range(len(VS_left_vectors)):\n",
    "    for period in range(len(VS_left_vectors[0])):\n",
    "        if np.all(VS_left_vectors[patient][period]) == 0:\n",
    "            break        \n",
    "        all_vectors_VS.append(VS_left_vectors[patient][period])\n",
    "        all_vectors_VS.append(VS_rest_vectors[patient][period])\n",
    "\n",
    "\n",
    "for patient in range(len(MCS_left_vectors)):\n",
    "    for period in range(len(MCS_left_vectors[0])):\n",
    "        if np.all(MCS_left_vectors[patient][period]) == 0:\n",
    "            break   \n",
    "        all_vectors_MCS.append(MCS_left_vectors[patient][period])\n",
    "        all_vectors_MCS.append(MCS_rest_vectors[patient][period])\n",
    "\n",
    "        \n",
    "data = [all_vectors_kontrola, all_vectors_MCS, all_vectors_VS]\n",
    "        \n",
    "print(len(all_vectors_kontrola))\n",
    "print(len(all_vectors_MCS))\n",
    "print(len(all_vectors_VS))"
   ]
  },
  {
   "cell_type": "code",
   "execution_count": 13,
   "metadata": {},
   "outputs": [
    {
     "name": "stdout",
     "output_type": "stream",
     "text": [
      "['MCS', 'VS']\n",
      "[0 1]\n",
      "(2,)\n"
     ]
    }
   ],
   "source": [
    "# class_names = ['Healthy', 'MCS', 'VS']\n",
    "class_names = ['MCS', 'VS']\n",
    "#creating labelEncoder\n",
    "le = preprocessing.LabelEncoder()\n",
    "#converting string labels into numbers\n",
    "class_names_encoded=le.fit_transform(class_names)\n",
    "\n",
    "print(class_names)\n",
    "print(class_names_encoded)\n",
    "print(np.shape(class_names_encoded))"
   ]
  },
  {
   "cell_type": "code",
   "execution_count": 14,
   "metadata": {},
   "outputs": [],
   "source": [
    "# features = []\n",
    "# labels = []\n",
    "\n",
    "# for i, dataset in enumerate(new_data):\n",
    "#     for row in range(len(dataset)):\n",
    "#         feature_vec = dataset[row]\n",
    "#         features.append(feature_vec)\n",
    "#         labels.append(class_names_encoded[i])\n",
    "\n",
    "\n",
    "# # X_train, X_test, y_train, y_test = train_test_split(features, labels, test_size=0.2, shuffle=True)\n",
    "\n",
    "# to_shuffle = list(zip(features, labels))\n",
    "# random.shuffle(to_shuffle)\n",
    "\n",
    "# features, labels = zip(*to_shuffle)\n",
    "\n",
    "# print('Lenght of set: ' + str(len(features)))"
   ]
  },
  {
   "cell_type": "markdown",
   "metadata": {},
   "source": [
    "# Klasyfikacja KNN"
   ]
  },
  {
   "cell_type": "code",
   "execution_count": 15,
   "metadata": {},
   "outputs": [],
   "source": [
    "new_data = [all_vectors_MCS, all_vectors_VS]\n",
    "class_names = ['MCS', 'VS']\n",
    "\n",
    "le = preprocessing.LabelEncoder()\n",
    "class_names_encoded=le.fit_transform(class_names)\n",
    "\n",
    "features = []\n",
    "labels = []\n",
    "\n",
    "for i, dataset in enumerate(new_data):\n",
    "    for row in range(len(dataset)):\n",
    "        feature_vec = dataset[row]\n",
    "        features.append(feature_vec)\n",
    "        labels.append(class_names_encoded[i])"
   ]
  },
  {
   "cell_type": "code",
   "execution_count": 23,
   "metadata": {},
   "outputs": [
    {
     "name": "stdout",
     "output_type": "stream",
     "text": [
      "Dokładność = 0.766\n",
      "Precyzja = 0.789\n",
      "Czułość = 0.807\n",
      "F1 score = 0.798\n"
     ]
    }
   ],
   "source": [
    "########## KNN ###########\n",
    "from sklearn.model_selection import train_test_split\n",
    "from sklearn.metrics import accuracy_score, recall_score, f1_score, precision_score\n",
    "from sklearn.neighbors import KNeighborsClassifier\n",
    "\n",
    "X_train, X_test, y_train, y_test = train_test_split(features, labels, test_size=0.2, shuffle=True)\n",
    "\n",
    "model = KNeighborsClassifier(n_neighbors=5)\n",
    "model.fit(X_train, y_train)\n",
    "y_pred = model.predict(X_test)\n",
    "\n",
    "confusion_matrix(y_test, y_pred)\n",
    "\n",
    "print(\"Dokładność = %.3f\" % accuracy_score(y_test, y_pred))\n",
    "print(\"Precyzja = %.3f\" % precision_score(y_test, y_pred, average='binary'))\n",
    "print(\"Czułość = %.3f\" % recall_score(y_test, y_pred, average='binary'))\n",
    "print(\"F1 score = %.3f\" % f1_score(y_test, y_pred, average='binary'))"
   ]
  }
 ],
 "metadata": {
  "kernelspec": {
   "display_name": "Python 3",
   "language": "python",
   "name": "python3"
  },
  "language_info": {
   "codemirror_mode": {
    "name": "ipython",
    "version": 3
   },
   "file_extension": ".py",
   "mimetype": "text/x-python",
   "name": "python",
   "nbconvert_exporter": "python",
   "pygments_lexer": "ipython3",
   "version": "3.7.0"
  }
 },
 "nbformat": 4,
 "nbformat_minor": 2
}
